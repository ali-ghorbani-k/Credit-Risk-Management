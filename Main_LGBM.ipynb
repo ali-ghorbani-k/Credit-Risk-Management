{
 "cells": [
  {
   "cell_type": "code",
   "execution_count": 18,
   "metadata": {
    "executionInfo": {
     "elapsed": 336,
     "status": "ok",
     "timestamp": 1602103159737,
     "user": {
      "displayName": "Ali Ghorbani",
      "photoUrl": "https://lh3.googleusercontent.com/a-/AOh14GhWTYg2QaNPZd4GGNiDkkHX8r9t7BRVHYGz3JwSKA=s64",
      "userId": "10869472433171243113"
     },
     "user_tz": 240
    },
    "id": "xp4I20KBm54b"
   },
   "outputs": [],
   "source": [
    "''' Import numpy, pandas, sklearn modules and libraries'''\n",
    "import pandas as pd\n",
    "import numpy as np\n",
    "from matplotlib import pyplot as plt\n",
    "%matplotlib inline\n",
    "import seaborn as sns\n",
    "from sklearn.model_selection import train_test_split\n",
    "from sklearn.pipeline import make_pipeline\n",
    "from sklearn.preprocessing import StandardScaler\n",
    "from sklearn.model_selection import RandomizedSearchCV, GridSearchCV, cross_val_score\n",
    "from sklearn.decomposition import PCA \n",
    "from xgboost import XGBClassifier\n",
    "from lightgbm import LGBMClassifier\n",
    "# Classification metrics\n",
    "from sklearn.metrics import confusion_matrix\n",
    "from sklearn.metrics import roc_curve, roc_auc_score\n",
    "from sklearn.metrics import precision_recall_curve\n",
    "from sklearn.metrics import cohen_kappa_score\n",
    "# Ignore ConvergenceWarning messages\n",
    "import warnings\n",
    "from sklearn.exceptions import ConvergenceWarning\n",
    "warnings.simplefilter(action='ignore', category=ConvergenceWarning)\n",
    "from functools import reduce\n",
    "from sklearn.preprocessing import LabelEncoder"
   ]
  },
  {
   "cell_type": "code",
   "execution_count": 19,
   "metadata": {
    "executionInfo": {
     "elapsed": 466,
     "status": "ok",
     "timestamp": 1602103159884,
     "user": {
      "displayName": "Ali Ghorbani",
      "photoUrl": "https://lh3.googleusercontent.com/a-/AOh14GhWTYg2QaNPZd4GGNiDkkHX8r9t7BRVHYGz3JwSKA=s64",
      "userId": "10869472433171243113"
     },
     "user_tz": 240
    },
    "id": "YnfSFoq6PlE2"
   },
   "outputs": [],
   "source": [
    "def train_application():\n",
    "    \"\"\"\n",
    "    This function reads application_train.csv table, cleans it and perform manual feature engineering for each\n",
    "    application (SK_ID_CURR).   \n",
    "    \n",
    "    Parameters:\n",
    "    None\n",
    "\n",
    "    Returns:\n",
    "    train :   train DataFrame which includes hand engineered features from \n",
    "                  just application_train table.   \n",
    "    \n",
    "    \"\"\"\n",
    "\n",
    "    print('Processing application_train and application_test tables')\n",
    "    train = pd.read_csv('application_train.csv')\n",
    "    # Delete four applications with XNA CODE_GENDER (train set)\n",
    "    train = train[train['CODE_GENDER'] != 'XNA']\n",
    "    # Replace DAYS_EMPLOYED = 365243 by nan\n",
    "    train['DAYS_EMPLOYED'].replace({365243: np.nan}, inplace = True) \n",
    "    # Feature engineering\n",
    "    train['Days_employed_age']   = train['DAYS_EMPLOYED'] / train['DAYS_BIRTH']\n",
    "    train['Credit_income_ratio'] = train['AMT_CREDIT'] / train['AMT_INCOME_TOTAL']\n",
    "    train['Anuity_income_ratio'] = train['AMT_ANNUITY'] / train['AMT_INCOME_TOTAL'] \n",
    "    train['Income_per_person']   = train['AMT_INCOME_TOTAL'] / train['CNT_FAM_MEMBERS']\n",
    "    #length of the payment in months since the annuity is the monthly amount due\n",
    "    train['Credit_term'] = train['AMT_ANNUITY']/train['AMT_CREDIT'] \n",
    "    return train"
   ]
  },
  {
   "cell_type": "code",
   "execution_count": 20,
   "metadata": {
    "executionInfo": {
     "elapsed": 851,
     "status": "ok",
     "timestamp": 1602103160277,
     "user": {
      "displayName": "Ali Ghorbani",
      "photoUrl": "https://lh3.googleusercontent.com/a-/AOh14GhWTYg2QaNPZd4GGNiDkkHX8r9t7BRVHYGz3JwSKA=s64",
      "userId": "10869472433171243113"
     },
     "user_tz": 240
    },
    "id": "DyilwZIvUekt"
   },
   "outputs": [],
   "source": [
    "def bureau_journey():\n",
    "    \"\"\"\n",
    "    This function reads bureau.csv and burea_balance.csv tables which includes the recorded\n",
    "    ID of previous credit bureau (SK_ID_BUREAU), hand engineered new features, and \n",
    "    returns the statiscs related to each application SK_ID_CURR.\n",
    "\n",
    "    Parameters:\n",
    "    None\n",
    "\n",
    "    Returns:\n",
    "    stats: pandas DataFrame including bureau related statistics for each SK_ID_CURR.  \n",
    "    \"\"\"\n",
    "\n",
    "    print('Processing bureau and bureau balance tables...')\n",
    "    bureau = pd.read_csv('bureau.csv')\n",
    "    # ------------------------------------Feature Engineering (1): General ------------------------------------------\n",
    "    bureau['Days_early_paidoff'] =  bureau['DAYS_CREDIT_ENDDATE'] - bureau['DAYS_ENDDATE_FACT']\n",
    "    bureau['Duration_real']      = bureau['DAYS_ENDDATE_FACT'] - bureau['DAYS_CREDIT']\n",
    "    bureau['Duration_planned']   = bureau['DAYS_CREDIT_ENDDATE'] - bureau['DAYS_CREDIT'] \n",
    "    #Replace data with Duration_planned = 0 with 1 to avoide devision by zero\n",
    "    bureau['Duration_planned'].replace({0: 1}, inplace = True) \n",
    "    # Weighted sum of credit a person borrowed (per days) \n",
    "    bureau['AMT_weightdebt_duration'] = bureau['AMT_CREDIT_SUM_DEBT'] / bureau['Duration_planned']\n",
    "    # 'AMT_CREDIT_SUM_OVERDUE': Current amount overdue on credit \n",
    "    bureau['AMT_Overdue_duration'] = bureau['AMT_CREDIT_SUM_OVERDUE'] / bureau['Duration_planned'] \n",
    "    # Maximal amount overdue so far \n",
    "    bureau['AMT_Maxoverdue_duration'] = bureau['AMT_CREDIT_MAX_OVERDUE']/bureau['Duration_planned'] \n",
    "    # Defaulted: CREDIT_DAY_OVERDUE > 270 days is considered defaluted\n",
    "    bureau['Defaulted'] = np.where(bureau['CREDIT_DAY_OVERDUE'] > 270, 1, 0)\n",
    "    bureau['AMT_defaulted'] = bureau['Defaulted']*bureau['AMT_CREDIT_SUM_DEBT']\n",
    "    # Encoding CREDIT_ACTIVE ('Closed','Active') to (0,1)\n",
    "    mapping = {'Closed':0, 'Active': 1}\n",
    "    bureau['CREDIT_ACTIVE'] = bureau['CREDIT_ACTIVE'].map(mapping)\n",
    "    # Flatten manual features with aggregations \n",
    "    stats = bureau.sort_values('DAYS_CREDIT', ascending = False).groupby('SK_ID_CURR') \\\n",
    "          .agg({'AMT_CREDIT_SUM_DEBT': ['count' ,'sum', 'mean'], \n",
    "                'AMT_weightdebt_duration': ['sum', 'mean'], \n",
    "                'AMT_Overdue_duration': [ 'sum', 'mean'], \n",
    "                'AMT_Maxoverdue_duration': ['mean'], \n",
    "                'Days_early_paidoff': [ 'sum', 'mean'],\n",
    "                'Defaulted':[ 'sum', 'mean'], \n",
    "                'AMT_defaulted':[ 'sum', 'mean'],\n",
    "                'CREDIT_ACTIVE': 'sum'}) \n",
    "    stats.columns = stats.columns.map('_'.join)\n",
    "    # Flatten last four stats for each applicant (nth() method does not work with .agg method)\n",
    "    columns = ['SK_ID_CURR', 'DAYS_CREDIT', 'AMT_CREDIT_SUM_DEBT', 'AMT_weightdebt_duration', 'AMT_Overdue_duration', \\\n",
    "              'Days_early_paidoff','Defaulted', 'AMT_defaulted'] \n",
    "    stats0  = bureau.sort_values('DAYS_CREDIT', ascending = False)[columns].groupby('SK_ID_CURR').nth(0) \n",
    "    stats1  = bureau.sort_values('DAYS_CREDIT', ascending = False)[columns].groupby('SK_ID_CURR').nth(1)\n",
    "    stats2  = bureau.sort_values('DAYS_CREDIT', ascending = False)[columns].groupby('SK_ID_CURR').nth(2)\n",
    "    stats3  = bureau.sort_values('DAYS_CREDIT', ascending = False)[columns].groupby('SK_ID_CURR').nth(3)\n",
    "    data_frames = [stats0, stats1, stats2, stats3]\n",
    "    lags = reduce(lambda  left,right: pd.concat( [left,right], axis=1, sort= False), data_frames)\n",
    "    col=[]\n",
    "    for i in range(4):\n",
    "        col += ['DAYS_CREDIT'+str(i), 'AMT_CREDIT_SUM_DEBT'+ str(i), 'AMT_weightdebt_duration'+ str(i), \\\n",
    "                'AMT_Overdue_duration'+ str(i), 'Days_early_paidoff'+ str(i),'Defaulted'+ str(i), 'AMT_defaulted'+ str(i)] \n",
    "    lags.columns = col  \n",
    "    stats = pd.merge(stats, lags, on= 'SK_ID_CURR', how ='outer')\n",
    "    #--------------------------- Feature Engineering (2): Loan cycle life for different CREDIT_TYPE------------------------------\n",
    "    # Select 6 categories of loans with the highest frequency \n",
    "    filter = (bureau['CREDIT_TYPE'] == 'Mortgage')  | (bureau['CREDIT_TYPE'] == 'Real estate loan') \\\n",
    "              | (bureau['CREDIT_TYPE'] == 'Car loan') \\\n",
    "              | (bureau['CREDIT_TYPE'] == 'Loan for business development') \\\n",
    "              | (bureau['CREDIT_TYPE'] == 'Loan for the purchase of equipment') \\\n",
    "              | (bureau['CREDIT_TYPE'] == 'Cash loan (non-earmarked)')\\\n",
    "              | (bureau['CREDIT_TYPE'] == 'Loan for working capital replenishment')  \n",
    "    btype = bureau[filter].copy()\n",
    "    # first(DAYS_CREDIT) is when the last credit of each credit type applied and last(DAYS_CREDIT) is when the first onces applied.\n",
    "    bt_stats  = btype.sort_values('DAYS_CREDIT', ascending = False).groupby(['SK_ID_CURR','CREDIT_TYPE'])\\\n",
    "               .agg({ 'DAYS_CREDIT': ['first', 'last'], 'AMT_CREDIT_SUM_DEBT': ['count', 'sum', 'mean'],\\\n",
    "                      'CREDIT_ACTIVE': 'sum' ,'Defaulted':'sum', 'AMT_defaulted':['sum']})\n",
    "    bt_stats.columns = bt_stats.columns.map('_'.join)\n",
    "    mortgage = bt_stats[bt_stats.index.isin(['Mortgage'], level='CREDIT_TYPE')]\n",
    "    mortgage.index = mortgage.index.droplevel('CREDIT_TYPE')\n",
    "    realestate = bt_stats[bt_stats.index.isin(['Real estate loan'], level='CREDIT_TYPE')]\n",
    "    realestate.index = realestate.index.droplevel('CREDIT_TYPE')\n",
    "    carloan = bt_stats[bt_stats.index.isin(['Car loan'], level='CREDIT_TYPE')]\n",
    "    carloan.index = carloan.index.droplevel('CREDIT_TYPE')\n",
    "    loanbusiness = bt_stats[bt_stats.index.isin(['Loan for business development'], level='CREDIT_TYPE')]\n",
    "    loanbusiness.index = loanbusiness.index.droplevel('CREDIT_TYPE')\n",
    "    loanpurchase = bt_stats[bt_stats.index.isin(['Loan for the purchase of equipment'], level='CREDIT_TYPE')]\n",
    "    loanpurchase.index = loanpurchase.index.droplevel('CREDIT_TYPE')\n",
    "    cashloan = bt_stats[bt_stats.index.isin(['Cash loan (non-earmarked)'], level='CREDIT_TYPE')]\n",
    "    cashloan.index = cashloan.index.droplevel('CREDIT_TYPE')\n",
    "    workingloan = bt_stats[bt_stats.index.isin(['Loan for working capital replenishment'], level='CREDIT_TYPE')]\n",
    "    workingloan.index = workingloan.index.droplevel('CREDIT_TYPE')\n",
    "    dataframes = [mortgage, realestate, carloan, loanbusiness, loanpurchase, cashloan, workingloan]\n",
    "    credit_type = reduce(lambda left, right: pd.merge(left,right, on = 'SK_ID_CURR', how= 'outer'), dataframes)\n",
    "    types = ['mortgage', 'realestate', 'carloan', 'loanbusiness', 'loanpurchase', 'cashloan', 'workingloan']\n",
    "    columns =[]\n",
    "    for s in types:\n",
    "        columns += ['DAYS_CREDIT_first_' + s,  'DAYS_CREDIT_last_' + s , 'AMT_CREDIT_SUM_DEBT_count_'+ s,   \\\n",
    "                    'AMT_CREDIT_SUM_DEBT_sum_' + s , 'AMT_CREDIT_SUM_DEBT_mean_' + s ,   \\\n",
    "                    'CREDIT_ACTIVE_sum_x_' + s , 'Defaulted_sum_x_' + s , 'AMT_defaulted_sum_' + s]\n",
    "    credit_type.columns = columns\n",
    "    stats.merge(credit_type, on ='SK_ID_CURR', how= 'outer')\n",
    "    #-----------------------------Feature Engineering (3): Loan cycle life for Credit Card----------------------------------------\n",
    "    ccdebt_bureau = bureau[bureau['CREDIT_TYPE'] == 'Credit card'].sort_values('DAYS_CREDIT', ascending = False)\\\n",
    "                          .groupby('SK_ID_CURR').agg({'AMT_CREDIT_SUM_DEBT':['count','sum', 'mean', 'first']})\n",
    "    ccdebt_bureau.columns = ccdebt_bureau.columns.map('_'.join)\n",
    "    stats = stats.merge(ccdebt_bureau, on= 'SK_ID_CURR', how = 'outer')\n",
    "    #------------------------------Feature Engineering (4): Bureau Balance Table---------------------------------------------------\n",
    "    bureaubal = pd.read_csv('bureau_balance.csv')\n",
    "    # When did the credit closed? When was the last delinquency for each bureau credit?\n",
    "    # Last close is obtained by first 0 in MONTHS_BALANCE, last delinquency is obtained from first 1.\n",
    "    bbalance = bureaubal.groupby(['SK_ID_BUREAU','STATUS'], as_index=False).first()\n",
    "    left  = bbalance[(bbalance['STATUS'] == '0')][['SK_ID_BUREAU','MONTHS_BALANCE']]\n",
    "    right = bbalance[(bbalance['STATUS'] == '1')][['SK_ID_BUREAU','MONTHS_BALANCE']]\n",
    "    bbalance = pd.merge(left,right, on= 'SK_ID_BUREAU', how='left')\n",
    "    bbalance.columns = ['SK_ID_BUREAU','Months_latest_open','Months_latest_delin']\n",
    "    # Delinquency ratios: how often each bureau delayed? \n",
    "    delinquency = pd.get_dummies(bureaubal[(bureaubal['STATUS'] != 'X') & (bureaubal['STATUS'] != 'C')])\n",
    "    delinquency = delinquency.groupby('SK_ID_BUREAU').agg({'STATUS_0':'mean','STATUS_1':'mean','STATUS_2':'mean','STATUS_3':'mean',\n",
    "                                                     'STATUS_4':'mean','STATUS_5':'mean'}) \n",
    "    bbalance = bbalance.merge(delinquency, on='SK_ID_BUREAU', how = 'inner')\n",
    "    # Add SK_ID_CURR to bbalance dataframe\n",
    "    bbalance = bureau[['SK_ID_CURR','SK_ID_BUREAU']].merge(bbalance, on = 'SK_ID_BUREAU', how= 'inner')\n",
    "    # pick the latest open SK_ID_Bureau \n",
    "    bbalance = bbalance.sort_values('Months_latest_open', ascending= False).groupby('SK_ID_CURR').first()\n",
    "    # merge with stats\n",
    "    stats = stats.merge(bbalance, on ='SK_ID_CURR', how='outer')\n",
    "    return stats"
   ]
  },
  {
   "cell_type": "code",
   "execution_count": 21,
   "metadata": {
    "executionInfo": {
     "elapsed": 847,
     "status": "ok",
     "timestamp": 1602103160281,
     "user": {
      "displayName": "Ali Ghorbani",
      "photoUrl": "https://lh3.googleusercontent.com/a-/AOh14GhWTYg2QaNPZd4GGNiDkkHX8r9t7BRVHYGz3JwSKA=s64",
      "userId": "10869472433171243113"
     },
     "user_tz": 240
    },
    "id": "jVnubwAGEitn"
   },
   "outputs": [],
   "source": [
    "def homecredit_prv_app():\n",
    "    \"\"\"\n",
    "    This function reads previous_application.csv which includes the recorded\n",
    "    ID of previous credit at Home Credit company (SK_ID_PREV), hand engineered new features, and \n",
    "    returns the statiscs related to each application SK_ID_CURR.\n",
    "\n",
    "    Parameters:\n",
    "    None\n",
    "\n",
    "    Returns:\n",
    "    prev1: pandas DataFrame having statistics related to previous loans for each SK_ID_CURR at Home Credit.  \n",
    "    \"\"\"\n",
    "\n",
    "    print('Processing previous application tables at Home Credit....')\n",
    "    prev = pd.read_csv('previous_application.csv')\n",
    "    #------------------------------Feature Engineering (1): General ---------------------------\n",
    "    # When was the last application applied and contract status?\n",
    "    prev1 = prev.sort_values('DAYS_DECISION', ascending = False).\\\n",
    "                 groupby(['SK_ID_CURR']).agg({'DAYS_DECISION':'first', 'NAME_CONTRACT_STATUS': 'first', 'AMT_CREDIT' : 'first'})\n",
    "    # last credit amount, interest rates, ... the most recent approved \n",
    "    df = prev[prev['NAME_CONTRACT_STATUS'] == 'Approved'] \\\n",
    "                  .sort_values('DAYS_DECISION', ascending = False).groupby('SK_ID_CURR').first()\n",
    "    df = df[['NAME_CONTRACT_TYPE', 'AMT_APPLICATION', 'AMT_CREDIT', 'AMT_DOWN_PAYMENT',\n",
    "                  'NAME_YIELD_GROUP','NFLAG_INSURED_ON_APPROVAL','RATE_INTEREST_PRIMARY', 'RATE_INTEREST_PRIVILEGED']]\n",
    "    df['Diff_applied_apprved'] = df['AMT_APPLICATION'] - df['AMT_CREDIT']\n",
    "    prev1 = prev1.merge(df , on='SK_ID_CURR', how= 'outer')\n",
    "    #--------------------Feature Engineering (2): Ratioss of Approved Refused Canceled and Unused offer for each application-----------\n",
    "    df = prev.groupby(['SK_ID_CURR','NAME_CONTRACT_STATUS']).agg({'SK_ID_PREV':'count'})\n",
    "    df = df.groupby(level='SK_ID_CURR').apply(lambda x: x/x.sum())\n",
    "    approved = df[df.index.isin(['Approved'], level='NAME_CONTRACT_STATUS')]['SK_ID_PREV']\n",
    "    approved.index = approved.index.droplevel('NAME_CONTRACT_STATUS')\n",
    "    refused  = df[df.index.isin(['Refused'], level='NAME_CONTRACT_STATUS')]['SK_ID_PREV']\n",
    "    refused.index = refused.index.droplevel('NAME_CONTRACT_STATUS')\n",
    "    canceled = df[df.index.isin(['Canceled'], level='NAME_CONTRACT_STATUS')]['SK_ID_PREV']\n",
    "    canceled.index = canceled.index.droplevel('NAME_CONTRACT_STATUS')\n",
    "    unused   = df[df.index.isin(['Unused offer'], level='NAME_CONTRACT_STATUS')]['SK_ID_PREV']\n",
    "    unused.index = unused.index.droplevel('NAME_CONTRACT_STATUS')\n",
    "    data_frames = [approved,refused,canceled,unused]\n",
    "    df = reduce(lambda  left,right: pd.merge( left,right, on = 'SK_ID_CURR', how='outer'), data_frames)\n",
    "    df.columns = ['ratio_approved','ratio_refused','ratio_canceled', 'ratio_unused']\n",
    "    prev1 = prev1.merge(df, on='SK_ID_CURR', how= 'outer')\n",
    "    #--------------------Feature Engineering (3): Latest credit time and amount for the approved different NAME_CONTRACT_TYPE -------------\n",
    "    df = prev[prev['NAME_CONTRACT_STATUS'] == 'Approved'].sort_values('DAYS_DECISION', ascending = False).\\\n",
    "                 groupby(['SK_ID_CURR','NAME_CONTRACT_TYPE']).agg({'DAYS_DECISION':'first', 'AMT_CREDIT' : 'first'})\n",
    "    consumer_loans = df[df.index.isin(['Consumer loans'], level='NAME_CONTRACT_TYPE')][['DAYS_DECISION','AMT_CREDIT']]\n",
    "    consumer_loans.index = consumer_loans.index.droplevel('NAME_CONTRACT_TYPE')\n",
    "    cash_loans = df[df.index.isin(['Cash loans'], level='NAME_CONTRACT_TYPE')][['DAYS_DECISION','AMT_CREDIT']]\n",
    "    cash_loans.index = cash_loans.index.droplevel('NAME_CONTRACT_TYPE')\n",
    "    revolving_loans = df[df.index.isin(['Revolving loans'], level='NAME_CONTRACT_TYPE')][['DAYS_DECISION','AMT_CREDIT']]\n",
    "    revolving_loans.index = revolving_loans.index.droplevel('NAME_CONTRACT_TYPE')\n",
    "    dfs = [consumer_loans,cash_loans, revolving_loans]\n",
    "    df = reduce(lambda left,right: pd.merge(left,right, on ='SK_ID_CURR', how = 'outer'), dfs )\n",
    "    df.columns = ['Days_consumerloans', 'AMT_credit_consumerloans', 'Days_cashloans','AMT_credit_cashloans',\n",
    "                        'Days_revolvingloans','AMT_credit_revolvingloans']\n",
    "    prev1 = prev1.merge(df, on='SK_ID_CURR', how= 'outer') \n",
    "    return prev1"
   ]
  },
  {
   "cell_type": "code",
   "execution_count": 22,
   "metadata": {
    "executionInfo": {
     "elapsed": 841,
     "status": "ok",
     "timestamp": 1602103160284,
     "user": {
      "displayName": "Ali Ghorbani",
      "photoUrl": "https://lh3.googleusercontent.com/a-/AOh14GhWTYg2QaNPZd4GGNiDkkHX8r9t7BRVHYGz3JwSKA=s64",
      "userId": "10869472433171243113"
     },
     "user_tz": 240
    },
    "id": "xT8PolCFPHb4"
   },
   "outputs": [],
   "source": [
    "def homecredit_cc():\n",
    "    \"\"\"\n",
    "    This function reads credit_card_balance.csv having recorded\n",
    "    ID of previous credit card at Home Credit company (SK_ID_PREV), \n",
    "    hand engineered new features, and returns the statiscs related to each application SK_ID_CURR.\n",
    "\n",
    "    Parameters:\n",
    "    None\n",
    "\n",
    "    Returns:\n",
    "    stats: pandas DataFrame having statistics related to previous credit card for each SK_ID_CURR at Home Credit.  \n",
    "    \"\"\"\n",
    "\n",
    "    ccb = pd.read_csv('credit_card_balance.csv')\n",
    "    ccb['Beyond_limit'] = np.where(ccb['AMT_BALANCE'] > ccb['AMT_CREDIT_LIMIT_ACTUAL'] , 1, 0)\n",
    "    ccb['Delinquent'] = np.where(ccb['AMT_PAYMENT_CURRENT'] < ccb['AMT_INST_MIN_REGULARITY'] , 1, 0)\n",
    "    # Percentage change of credit card balance between two successive months\n",
    "    def pct_diff(group):\n",
    "      group['balance_pct_change'] = group['AMT_BALANCE'].diff()/(group['AMT_BALANCE'].shift(1)+1)\n",
    "      group['balance_pct_change'] = np.where(group['balance_pct_change'] > 30, 30, group['balance_pct_change'])\n",
    "      return group\n",
    "    ccb = ccb.sort_values('MONTHS_BALANCE').groupby('SK_ID_PREV').apply(pct_diff)    \n",
    "    # how many times credit card reached 80% and above?\n",
    "    ccb['times_bal80'] = np.where(ccb['AMT_BALANCE']/ccb['AMT_CREDIT_LIMIT_ACTUAL'] >= 0.8, 1, 0)\n",
    "    # How many credit card do applicant have at the moment? What is the total balance on them? (outstanding debt of credit card)\n",
    "    ccb['has_cc_now'] = np.where(ccb['MONTHS_BALANCE'] == -1 , 1 , 0 )\n",
    "    ccb['balance_now'] = ccb['has_cc_now'] * ccb['AMT_BALANCE'] \n",
    "    stats = ccb.groupby('SK_ID_CURR', as_index=False).agg({'has_cc_now': 'sum', 'balance_now': 'sum', 'times_bal80': 'sum'})\n",
    "    # Flatten last four months balance and percentage change for each applicant\n",
    "    cols = ['MONTHS_BALANCE','Beyond_limit','Delinquent','balance_pct_change']\n",
    "    cclast = ccb.sort_values('MONTHS_BALANCE', ascending = False).groupby(['SK_ID_CURR'])[cols].nth(0)\n",
    "    cclag1 = ccb.sort_values('MONTHS_BALANCE', ascending = False).groupby(['SK_ID_CURR'])[cols].nth(1)\n",
    "    cclag2 = ccb.sort_values('MONTHS_BALANCE', ascending = False).groupby(['SK_ID_CURR'])[cols].nth(2)\n",
    "    cclag3 = ccb.sort_values('MONTHS_BALANCE', ascending = False).groupby(['SK_ID_CURR'])[cols].nth(3)\n",
    "    dfs = [cclast, cclag1, cclag2, cclag3]\n",
    "    lags = reduce(lambda left,right: pd.concat([left,right], axis=1, sort= False), dfs)\n",
    "    columns = []\n",
    "    for i in range(4):\n",
    "        columns += ['MONTHS_BALANCE'+str(i), 'Beyond_limit'+str(i),'Delinquent'+str(i), 'balance_pct_change'+str(i)]\n",
    "    lags.columns = columns\n",
    "    stats = stats.merge(lags, on='SK_ID_CURR', how= 'outer')\n",
    "    return stats"
   ]
  },
  {
   "cell_type": "code",
   "execution_count": 23,
   "metadata": {
    "executionInfo": {
     "elapsed": 836,
     "status": "ok",
     "timestamp": 1602103160286,
     "user": {
      "displayName": "Ali Ghorbani",
      "photoUrl": "https://lh3.googleusercontent.com/a-/AOh14GhWTYg2QaNPZd4GGNiDkkHX8r9t7BRVHYGz3JwSKA=s64",
      "userId": "10869472433171243113"
     },
     "user_tz": 240
    },
    "id": "D3GIL81LiAoF"
   },
   "outputs": [],
   "source": [
    "def installment():\n",
    "    \"\"\"\n",
    "    This function reads installments_payments.csv having recorded\n",
    "    ID of previous installment payment at Home Credit company (SK_ID_PREV), \n",
    "    hand engineered new features, and returns the statiscs related to each application SK_ID_CURR.\n",
    "\n",
    "    Parameters:\n",
    "    None\n",
    "\n",
    "    Returns:\n",
    "    stats: pandas DataFrame having statistics related to previous installment for each SK_ID_CURR at Home Credit.\n",
    "    \"\"\"\n",
    "\n",
    "    insta = pd.read_csv('installments_payments.csv')\n",
    "    # 'DAYS_INSTALMENT': days before credit card supposed to be paid, 'DAYS_ENTRY_PAYMENT': days that amount was acutually paid\n",
    "    insta['insta_delinquency'] = np.where(insta['DAYS_INSTALMENT'] >= insta['DAYS_ENTRY_PAYMENT'], 0, 1)\n",
    "    insta['insta_debt'] = insta['AMT_INSTALMENT'] - insta['AMT_PAYMENT']\n",
    "    stats = insta.sort_values('DAYS_INSTALMENT', ascending = False).groupby(['SK_ID_CURR']).agg({'DAYS_INSTALMENT':'first','insta_debt': ['sum', 'mean', 'first'], 'insta_delinquency' :['sum','first']})\n",
    "    stats.columns = stats.columns.map('_'.join)\n",
    "    return stats"
   ]
  },
  {
   "cell_type": "code",
   "execution_count": 24,
   "metadata": {
    "executionInfo": {
     "elapsed": 830,
     "status": "ok",
     "timestamp": 1602103160288,
     "user": {
      "displayName": "Ali Ghorbani",
      "photoUrl": "https://lh3.googleusercontent.com/a-/AOh14GhWTYg2QaNPZd4GGNiDkkHX8r9t7BRVHYGz3JwSKA=s64",
      "userId": "10869472433171243113"
     },
     "user_tz": 240
    },
    "id": "2qSvmQ7zjfHq"
   },
   "outputs": [],
   "source": [
    "def pos_cash():\n",
    "    \"\"\"\n",
    "    This function reads POS_CASH_balance.csv having recorded\n",
    "    ID of previous point of sale (POS) transaction for each Home Credit company credit (SK_ID_PREV), \n",
    "    hand engineered new features, and returns the statiscs related to each application SK_ID_CURR.\n",
    "\n",
    "    Parameters:\n",
    "    None\n",
    "\n",
    "    Returns:\n",
    "    poslag: pandas DataFrame having statistics related to previous POS for each SK_ID_CURR at Home Credit.\n",
    "    \"\"\"\n",
    "\n",
    "    pc = pd.read_csv('POS_CASH_balance.csv')\n",
    "    # Flatten all the columns for the latest 4 POS data for each application \n",
    "    pc = pc.sort_values('MONTHS_BALANCE', ascending = False)\n",
    "    cols = ['MONTHS_BALANCE','SK_DPD','SK_DPD_DEF']\n",
    "    pos0 = pc.groupby(['SK_ID_CURR'])[cols].first()\n",
    "    pos1 = pc.groupby(['SK_ID_CURR'])[cols].nth(1)\n",
    "    pos2 = pc.groupby(['SK_ID_CURR'])[cols].nth(2)\n",
    "    pos3 = pc.groupby(['SK_ID_CURR'])[cols].nth(3)\n",
    "    data_frames = [pos0, pos1, pos2, pos3]\n",
    "    poslag = reduce(lambda  left,right: pd.concat( [left,right], axis=1, sort= False), data_frames)\n",
    "    columns =[]\n",
    "    for i in range(4):\n",
    "        columns += ['MONTHS_BALANCE' + str(i), 'SK_DPD'+ str(i),'SK_DPD_DEF'+ str(i) ]\n",
    "    poslag.columns = columns\n",
    "    return poslag"
   ]
  },
  {
   "cell_type": "code",
   "execution_count": 25,
   "metadata": {
    "executionInfo": {
     "elapsed": 825,
     "status": "ok",
     "timestamp": 1602103160291,
     "user": {
      "displayName": "Ali Ghorbani",
      "photoUrl": "https://lh3.googleusercontent.com/a-/AOh14GhWTYg2QaNPZd4GGNiDkkHX8r9t7BRVHYGz3JwSKA=s64",
      "userId": "10869472433171243113"
     },
     "user_tz": 240
    },
    "id": "ZTuvK-LElTiW"
   },
   "outputs": [],
   "source": [
    "def merge_tables():\n",
    "    ''' \n",
    "    This function merges the hand-engineered features obtained from bureau and home credit company with\n",
    "    the main application for training dataset\n",
    "\n",
    "    Parameters:\n",
    "    None\n",
    "\n",
    "    Returns:\n",
    "    train:  train DataFrame which includes hand engineered features from \n",
    "                  all tables including main application, bureau, and previous Home Credit tables.  \n",
    "\n",
    "    '''\n",
    "\n",
    "    prev_home   = homecredit_prv_app()\n",
    "    prev_home   = prev_home.merge(homecredit_cc(), on='SK_ID_CURR', how= 'outer')\n",
    "    prev_home   = prev_home.merge(installment(), on='SK_ID_CURR', how= 'outer')\n",
    "    prev_home   = prev_home.merge(pos_cash(), on='SK_ID_CURR', how= 'outer')\n",
    "    train       = train_application()\n",
    "    train       = train.merge(bureau_journey(), on='SK_ID_CURR', how='left')\n",
    "    train       = train.merge(prev_home, on='SK_ID_CURR', how='left')\n",
    "    return train"
   ]
  },
  {
   "cell_type": "code",
   "execution_count": 26,
   "metadata": {
    "executionInfo": {
     "elapsed": 820,
     "status": "ok",
     "timestamp": 1602103160293,
     "user": {
      "displayName": "Ali Ghorbani",
      "photoUrl": "https://lh3.googleusercontent.com/a-/AOh14GhWTYg2QaNPZd4GGNiDkkHX8r9t7BRVHYGz3JwSKA=s64",
      "userId": "10869472433171243113"
     },
     "user_tz": 240
    },
    "id": "XJrpJG-_YJEv"
   },
   "outputs": [],
   "source": [
    "def preprocessing(train):\n",
    "    '''\n",
    "    This function calculates the correlation between all features in training data and drops the columns with \n",
    "    correlation > 0.98. Then, it encodes categorical features and save them as 'category' type for lightGBM algorithms.\n",
    "\n",
    "    Parameters:\n",
    "    train: trainig table after merging all the tables.\n",
    "\n",
    "    Returns:\n",
    "    train: train pandas.DataFrame which includes preprocessed training dataset.\n",
    "    '''\n",
    "\n",
    "    print('Preprocessing final table and label encoding categorical features...')\n",
    "    # Drop the columns with correlation > 0.98\n",
    "    corr = train.corr()\n",
    "    upper = corr.where(np.triu(np.ones(corr.shape), k=1).astype(np.bool))\n",
    "    to_drop = [column for column in upper.columns if any(upper[column] > 0.98)]\n",
    "    train = train.drop(to_drop, axis=1)\n",
    "    # Encoding categorical features because lightGBM offers good accuracy with integer-encoded categorical features. \n",
    "    class_le = LabelEncoder()\n",
    "    cols = train.select_dtypes(include= object).columns\n",
    "    for col in cols:\n",
    "        train[col] = class_le.fit_transform(train[col].values.astype(str))\n",
    "        train[col] = train[col].astype('category')\n",
    "    return train"
   ]
  },
  {
   "cell_type": "code",
   "execution_count": 27,
   "metadata": {
    "executionInfo": {
     "elapsed": 927,
     "status": "ok",
     "timestamp": 1602103160408,
     "user": {
      "displayName": "Ali Ghorbani",
      "photoUrl": "https://lh3.googleusercontent.com/a-/AOh14GhWTYg2QaNPZd4GGNiDkkHX8r9t7BRVHYGz3JwSKA=s64",
      "userId": "10869472433171243113"
     },
     "user_tz": 240
    },
    "id": "58siGCS0gBdw"
   },
   "outputs": [],
   "source": [
    "def lightGBM(train, num_folds, test_size):\n",
    "    '''\n",
    "    This function trains a machine learning model using LightGBM algorithm. \n",
    "    The boosted algorithm hyper parameters was found using Bayasian optimization.\n",
    "\n",
    "    Parameters:\n",
    "    train: preprocessed dataframes \n",
    "    num_folds: number of folds for cross-validation (default is 5)\n",
    "    test_size: ratio of test to train in the training dataset\n",
    "\n",
    "    Returns:\n",
    "    pred_class: Binary class prediction of the target variable.\n",
    "    pred: Probability prediction of the target variable.\n",
    "    y_test: y_test in the trainig dataset\n",
    "    '''\n",
    "\n",
    "    print('Applying LightGBM algorithm...')\n",
    "    y = train['TARGET']\n",
    "    X = train.drop('TARGET', axis=1)\n",
    "    X_train, X_test, y_train, y_test = train_test_split(X, y , test_size = test_size, random_state=1234)\n",
    "    \n",
    "    # Lighgbm parameters was found using Bayesian Optimization\n",
    "    model_params = {\n",
    "      'colsample_bytree': 0.45544541538547634,\n",
    "      'learning_rate': 0.09712737568777673,\n",
    "      'max_depth': 10,\n",
    "      'min_child_weight': 44.81416318834993,\n",
    "      'min_split_gain': 0.47913323843650946,\n",
    "      'num_leaves': 44,\n",
    "      'reg_alpha': 8.507126649843658,\n",
    "      'reg_lambda': 2.2113739093853257,\n",
    "      'subsample': 0.43342993037373423\n",
    "    }\n",
    "    model = make_pipeline(StandardScaler(), LGBMClassifier(**model_params))\n",
    "    # cross validation scores\n",
    "    scores = cross_val_score(model, X_train, y_train, scoring='roc_auc', cv=num_folds, n_jobs=-1, verbose = 100)\n",
    "    print('max cross_val AUC: ', np.max(scores))\n",
    "    model.fit(X_train, y_train)\n",
    "    # Binary class prediction\n",
    "    pred_class = model.predict(X_test)\n",
    "    # Probability prediction\n",
    "    pred = model.predict_proba(X_test)\n",
    "    pred = [p[1] for p in pred]\n",
    "\n",
    "    return pred_class, pred, y_test"
   ]
  },
  {
   "cell_type": "code",
   "execution_count": 28,
   "metadata": {
    "executionInfo": {
     "elapsed": 922,
     "status": "ok",
     "timestamp": 1602103160410,
     "user": {
      "displayName": "Ali Ghorbani",
      "photoUrl": "https://lh3.googleusercontent.com/a-/AOh14GhWTYg2QaNPZd4GGNiDkkHX8r9t7BRVHYGz3JwSKA=s64",
      "userId": "10869472433171243113"
     },
     "user_tz": 240
    },
    "id": "R7c4nGwKgwk8"
   },
   "outputs": [],
   "source": [
    "def calculate_metrics(pred_class, pred, y_test):\n",
    "    '''\n",
    "    This function calculates the classificaiton metrics including precision, recall, F1-Score, AUC_ROC, and cohen-kappa coefficient.\n",
    "\n",
    "    Parameters:\n",
    "    pred_class: Binary class prediction of the target variable.\n",
    "    pred: Probability prediction of the target variable.\n",
    "    y_test: y_test in the trainig dataset\n",
    "\n",
    "    Returns:\n",
    "    None\n",
    "    '''\n",
    "\n",
    "    # ROC_AUC score\n",
    "    print('ROC_AUC:', roc_auc_score(y_test, pred))\n",
    "    # Precision/Recall (0.1 Threshold)\n",
    "    pred_class_2 = (np.array(pred) > 0.1).astype(int)\n",
    "    cm = confusion_matrix(y_test, pred_class_2)\n",
    "    print('\\nConfusion_metrix (0.1 Threshold): \\n', cm)\n",
    "    # True Negatives (TN)\n",
    "    tn = cm[0][0]\n",
    "    # False Positives (FP)\n",
    "    fp = cm[0][1]    \n",
    "    # False Negatives (FN)\n",
    "    fn = cm[1][0]\n",
    "    # True Positives (TP)\n",
    "    tp = cm[1][1]\n",
    "    precision = tp / (tp + fp)\n",
    "    print( 'Precision (0.1 Threshold): ', precision )\n",
    "    recall = tp / (tp + fn)\n",
    "    print( 'Recall (0.1 Threshold): ', recall )\n",
    "    print( 'F1-score ( 0.1 Threshold):', 2*precision*recall/(precision+recall))\n",
    "    cohen_kappa = cohen_kappa_score(y_test, pred_class_2)\n",
    "    print( '\\nCohen_kappa (0.1 Threshold): ', cohen_kappa )"
   ]
  },
  {
   "cell_type": "code",
   "execution_count": 29,
   "metadata": {
    "executionInfo": {
     "elapsed": 916,
     "status": "ok",
     "timestamp": 1602103160412,
     "user": {
      "displayName": "Ali Ghorbani",
      "photoUrl": "https://lh3.googleusercontent.com/a-/AOh14GhWTYg2QaNPZd4GGNiDkkHX8r9t7BRVHYGz3JwSKA=s64",
      "userId": "10869472433171243113"
     },
     "user_tz": 240
    },
    "id": "F8ybPq4kmqY5"
   },
   "outputs": [],
   "source": [
    "def plot_ROC(y_test, pred):\n",
    "    '''\n",
    "    This function plots ROC based on y_test and predictied probability of positive class by lightGBM.\n",
    "\n",
    "    Parameters:\n",
    "    pred: Probability prediction of the target variable.\n",
    "    y_test: y_test in the trainig dataset\n",
    "\n",
    "    Returns:\n",
    "    None\n",
    "    '''\n",
    "\n",
    "    # Initialize figure\n",
    "    fig = plt.figure(figsize=(9,9))\n",
    "    plt.title('Receiver Operating Characteristic')\n",
    "    # Plot ROC curve\n",
    "    fpr, tpr, thresholds = roc_curve(y_test, pred)\n",
    "    plt.plot(fpr, tpr)\n",
    "    # Diagonal 45 degree line\n",
    "    plt.plot([0,1],[0,1],'k--')\n",
    "    # Axes limits and labels\n",
    "    plt.xlim([-0.1,1.1])\n",
    "    plt.ylim([-0.1,1.1])\n",
    "    plt.ylabel('True Positive Rate')\n",
    "    plt.xlabel('False Positive Rate')\n",
    "    plt.show()"
   ]
  },
  {
   "cell_type": "code",
   "execution_count": 30,
   "metadata": {
    "executionInfo": {
     "elapsed": 908,
     "status": "ok",
     "timestamp": 1602103160414,
     "user": {
      "displayName": "Ali Ghorbani",
      "photoUrl": "https://lh3.googleusercontent.com/a-/AOh14GhWTYg2QaNPZd4GGNiDkkHX8r9t7BRVHYGz3JwSKA=s64",
      "userId": "10869472433171243113"
     },
     "user_tz": 240
    },
    "id": "HTA4FJTygyPM"
   },
   "outputs": [],
   "source": [
    "def plot_precision_recall(y_test, pred):\n",
    "    '''\n",
    "    This function plots precicision_recall curve based on y_test and predictied probability of positive class by lightGBM..\n",
    "\n",
    "    Parameters:\n",
    "    pred: Probability prediction of the target variable.\n",
    "    y_test: y_test in the trainig dataset\n",
    "    \n",
    "    Returns:\n",
    "    None\n",
    "    '''\n",
    "\n",
    "    precision, recall, thresholds = precision_recall_curve(y_test, pred)\n",
    "    fig = plt.figure(figsize=(9,9))\n",
    "    plt.title('Precision_Recall')\n",
    "    # Plot Precision-Recall curve\n",
    "    plt.plot(recall, precision)\n",
    "    # Axes limits and labels\n",
    "    plt.xlim([0,1])\n",
    "    plt.ylim([0,1])\n",
    "    plt.ylabel('Precision')\n",
    "    plt.xlabel('Recall')\n",
    "    plt.show()"
   ]
  },
  {
   "cell_type": "code",
   "execution_count": 33,
   "metadata": {
    "colab": {
     "base_uri": "https://localhost:8080/",
     "height": 1000
    },
    "executionInfo": {
     "elapsed": 218715,
     "status": "ok",
     "timestamp": 1602103477862,
     "user": {
      "displayName": "Ali Ghorbani",
      "photoUrl": "https://lh3.googleusercontent.com/a-/AOh14GhWTYg2QaNPZd4GGNiDkkHX8r9t7BRVHYGz3JwSKA=s64",
      "userId": "10869472433171243113"
     },
     "user_tz": 240
    },
    "id": "Oz97j9-8LGX2",
    "outputId": "b8431608-e39e-4294-e8c7-ab5b26891b5e"
   },
   "outputs": [
    {
     "name": "stdout",
     "output_type": "stream",
     "text": [
      "Preprocessing final table and label encoding categorical features...\n",
      "Applying LightGBM algorithm...\n",
      "[Parallel(n_jobs=-1)]: Using backend LokyBackend with 2 concurrent workers.\n",
      "[Parallel(n_jobs=-1)]: Done   1 tasks      | elapsed:   42.8s\n",
      "[Parallel(n_jobs=-1)]: Done   2 tasks      | elapsed:   43.4s\n",
      "[Parallel(n_jobs=-1)]: Done   3 out of   5 | elapsed:  1.4min remaining:   54.7s\n",
      "[Parallel(n_jobs=-1)]: Done   5 out of   5 | elapsed:  1.8min remaining:    0.0s\n",
      "[Parallel(n_jobs=-1)]: Done   5 out of   5 | elapsed:  1.8min finished\n",
      "max cross_val AUC:  0.777658874143673\n",
      "ROC_AUC: 0.7821388744527532\n",
      "\n",
      "Confusion_metrix (0.1 Threshold): \n",
      " [[11206  2938]\n",
      " [  473   759]]\n",
      "Precision (0.1 Threshold):  0.20530159588855829\n",
      "Recall (0.1 Threshold):  0.6160714285714286\n",
      "F1-score ( 0.1 Threshold): 0.3079732197200244\n",
      "\n",
      "Cohen_kappa (0.1 Threshold):  0.21343124817183545\n"
     ]
    },
    {
     "data": {
      "image/png": "[encoded data removed]",
      "text/plain": [
       "<Figure size 648x648 with 1 Axes>"
      ]
     },
     "metadata": {
      "needs_background": "light",
      "tags": []
     },
     "output_type": "display_data"
    },
    {
     "data": {
      "image/png": "[encoded data removed]",
      "text/plain": [
       "<Figure size 648x648 with 1 Axes>"
      ]
     },
     "metadata": {
      "needs_background": "light",
      "tags": []
     },
     "output_type": "display_data"
    }
   ],
   "source": [
    "''' -------------------------------Main---------------------------\n",
    "The main calls all funcitons sequentillay, merge the tables, train lightGBM, and plot the classification metrics.\n",
    "'''\n",
    "\n",
    "# Cleaning, feature engineering, and flattening of data from bureau and HomeCredit \n",
    "# and merging the application_train \n",
    "train = merge_tables()\n",
    "# Preprocesing including label encoding of categorical varibles for LightGBM \n",
    "train = preprocessing(train)\n",
    "# Training LightGBM\n",
    "nfolds = 5\n",
    "test_size = 0.05\n",
    "pred_class, pred, y_test = lightGBM(train, nfolds, test_size)\n",
    "# Evalutate ROC_AUC, Precision, Recall, F1-Score, Kohen-Cappa metrics\n",
    "calculate_metrics(pred_class, pred, y_test)\n",
    "# Plot ROC curve\n",
    "plot_ROC(y_test, pred)\n",
    "# Plot Precision/R curve\n",
    "plot_precision_recall(y_test, pred)"
   ]
  }
 ],
 "metadata": {
  "colab": {
   "authorship_tag": "ABX9TyOUbNgFG9L8rEo1OC+e82P7",
   "collapsed_sections": [],
   "mount_file_id": "1QIbvwXBVKCtoJHH1alQcP13irUjezFYp",
   "name": "Main_LGBM.ipynb",
   "provenance": [
    {
     "file_id": "18ihJA9BLiNN5F-ut3zlGDt2rSonrte__",
     "timestamp": 1598108135829
    },
    {
     "file_id": "1R5IYeiRZufzRipTqBk5zcdMgdkmUoEHE",
     "timestamp": 1596279690660
    },
    {
     "file_id": "1ZnpsttZrvD6wbKD6aETZuuMbHnE7FLFi",
     "timestamp": 1594932112784
    },
    {
     "file_id": "1QIbvwXBVKCtoJHH1alQcP13irUjezFYp",
     "timestamp": 1594841666146
    },
    {
     "file_id": "1W2dSR-Ua7USBX0gTUcVxEtEvVlEbZCsq",
     "timestamp": 1594734735941
    }
   ]
  },
  "kernelspec": {
   "display_name": "Python 3",
   "language": "python",
   "name": "python3"
  },
  "language_info": {
   "codemirror_mode": {
    "name": "ipython",
    "version": 3
   },
   "file_extension": ".py",
   "mimetype": "text/x-python",
   "name": "python",
   "nbconvert_exporter": "python",
   "pygments_lexer": "ipython3",
   "version": "3.7.7"
  }
 },
 "nbformat": 4,
 "nbformat_minor": 1
}
