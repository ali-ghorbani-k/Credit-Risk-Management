{
 "cells": [
  {
   "cell_type": "code",
   "execution_count": 29,
   "metadata": {
    "executionInfo": {
     "elapsed": 3527,
     "status": "ok",
     "timestamp": 1601504229624,
     "user": {
      "displayName": "Ali Ghorbani",
      "photoUrl": "https://lh3.googleusercontent.com/a-/AOh14GhWTYg2QaNPZd4GGNiDkkHX8r9t7BRVHYGz3JwSKA=s64",
      "userId": "10869472433171243113"
     },
     "user_tz": 240
    },
    "id": "xp4I20KBm54b"
   },
   "outputs": [],
   "source": [
    "''' Import feature tools library and numpy, pandas, sklearn modules and libraries'''\n",
    "import pandas as pd\n",
    "import numpy as np\n",
    "from matplotlib import pyplot as plt\n",
    "%matplotlib inline\n",
    "import seaborn as sns\n",
    "from sklearn.model_selection import train_test_split\n",
    "from sklearn.pipeline import make_pipeline\n",
    "from sklearn.preprocessing import StandardScaler\n",
    "from sklearn.model_selection import RandomizedSearchCV, GridSearchCV\n",
    "from sklearn.decomposition import PCA \n",
    "import featuretools as ft\n",
    "from xgboost import XGBClassifier\n",
    "# Classification metrics\n",
    "from sklearn.metrics import confusion_matrix\n",
    "from sklearn.metrics import roc_curve, roc_auc_score\n",
    "from sklearn.metrics import precision_recall_curve\n",
    "from sklearn.metrics import cohen_kappa_score\n",
    "# Ignore ConvergenceWarning messages\n",
    "import warnings\n",
    "from sklearn.exceptions import ConvergenceWarning\n",
    "warnings.simplefilter(action='ignore', category=ConvergenceWarning)"
   ]
  },
  {
   "cell_type": "code",
   "execution_count": 30,
   "metadata": {
    "executionInfo": {
     "elapsed": 3496,
     "status": "ok",
     "timestamp": 1601504229625,
     "user": {
      "displayName": "Ali Ghorbani",
      "photoUrl": "https://lh3.googleusercontent.com/a-/AOh14GhWTYg2QaNPZd4GGNiDkkHX8r9t7BRVHYGz3JwSKA=s64",
      "userId": "10869472433171243113"
     },
     "user_tz": 240
    },
    "id": "mMmpzLtirfYi"
   },
   "outputs": [],
   "source": [
    "def train_application():\n",
    "        \n",
    "    \"\"\"\n",
    "    This function reads application_train.csv, cleans it and perform manual feature engineering for each\n",
    "    application (SK_ID_CURR).   \n",
    "    \n",
    "    Parameters:\n",
    "    None\n",
    "\n",
    "    Returns:\n",
    "    train: training dataFrame which includes hand engineered features from \n",
    "                  just application_train table.   \n",
    "    \n",
    "    \"\"\"\n",
    "    \n",
    "    print('Processing application_train and application_test tables')\n",
    "    train = pd.read_csv('application_train.csv')\n",
    "    # Delete four applications with XNA CODE_GENDER (train set)\n",
    "    train = train[train['CODE_GENDER'] != 'XNA']\n",
    "    # Replace DAYS_EMPLOYED = 365243 by nan\n",
    "    train['DAYS_EMPLOYED'].replace({365243: np.nan}, inplace = True) \n",
    "    # Feature engineering\n",
    "    train['Days_employed_age']   = train['DAYS_EMPLOYED'] / train['DAYS_BIRTH']\n",
    "    train['Credit_income_ratio'] = train['AMT_CREDIT'] / train['AMT_INCOME_TOTAL']\n",
    "    train['Anuity_income_ratio'] = train['AMT_ANNUITY'] / train['AMT_INCOME_TOTAL'] \n",
    "    train['Income_per_person']   = train['AMT_INCOME_TOTAL'] / train['CNT_FAM_MEMBERS']\n",
    "    #length of the payment in months since the annuity is the monthly amount due\n",
    "    train['Credit_term'] = train['AMT_ANNUITY']/train['AMT_CREDIT'] \n",
    "   \n",
    "    return train"
   ]
  },
  {
   "cell_type": "code",
   "execution_count": 31,
   "metadata": {
    "executionInfo": {
     "elapsed": 784,
     "status": "ok",
     "timestamp": 1601507091521,
     "user": {
      "displayName": "Ali Ghorbani",
      "photoUrl": "https://lh3.googleusercontent.com/a-/AOh14GhWTYg2QaNPZd4GGNiDkkHX8r9t7BRVHYGz3JwSKA=s64",
      "userId": "10869472433171243113"
     },
     "user_tz": 240
    },
    "id": "Ow3vmIJZrwr_"
   },
   "outputs": [],
   "source": [
    "def Automated_features(train, nrows, max_depth):\n",
    "    \n",
    "    ''' \n",
    "    Automated feature engineering is conducted on all the tables using feature tools.\n",
    "    \n",
    "    Parameters:\n",
    "    train: preprocessed training data \n",
    "    nrows: number of rows considered in train data for the model due to the computational power limitation.\n",
    "    max_depth: depth of a deep feature is the number of primitives required to make the feature.\n",
    "\n",
    "    Returns:\n",
    "    train_ft: train dataframe with added new features from automated feature engineering.  \n",
    "    \n",
    "    '''\n",
    "    bureau    = pd.read_csv('bureau.csv')\n",
    "    bureaubal = pd.read_csv('bureau_balance.csv')\n",
    "    prev      = pd.read_csv('previous_application.csv')\n",
    "    ccb       = pd.read_csv('credit_card_balance.csv')\n",
    "    insta     = pd.read_csv('installments_payments.csv')\n",
    "    pc        = pd.read_csv('POS_CASH_balance.csv')\n",
    "\n",
    "    # Choosing nrows data from all datasets\n",
    "    train = train.sample(frac=1)\n",
    "    train = train[:nrows]\n",
    "    ids = train['SK_ID_CURR'].values\n",
    "    bureau = bureau.loc[bureau['SK_ID_CURR'].isin(ids)]\n",
    "    idsb = bureau['SK_ID_BUREAU'].values\n",
    "    bureaubal = bureaubal.loc[bureaubal['SK_ID_BUREAU'].isin(idsb)]\n",
    "    prev = prev.loc[prev['SK_ID_CURR'].isin(ids)]\n",
    "    ccb  = ccb.loc[ccb['SK_ID_CURR'].isin(ids)]\n",
    "    insta = insta.loc[insta['SK_ID_CURR'].isin(ids)]\n",
    "    pc   = pc.loc[pc['SK_ID_CURR'].isin(ids)]\n",
    "\n",
    "    # creating EntitySet (collection of tables)\n",
    "    es = ft.EntitySet(id = 'applications')\n",
    "    # adding Entity (table) to EntitySet\n",
    "    es = es.entity_from_dataframe(entity_id = 'train'    , dataframe = train    , index= 'SK_ID_CURR')\n",
    "    es = es.entity_from_dataframe(entity_id = 'bureau'   , dataframe = bureau   , index= 'SK_ID_BUREAU')\n",
    "    es = es.entity_from_dataframe(entity_id = 'bureaubal', dataframe = bureaubal, make_index = True, index = 'bb_id')\n",
    "    es = es.entity_from_dataframe(entity_id = 'prev'     , dataframe = prev     , index = 'SK_ID_PREV')\n",
    "    es = es.entity_from_dataframe(entity_id = 'ccb'      , dataframe = ccb      , make_index = True, index = 'cc_id')\n",
    "    es = es.entity_from_dataframe(entity_id = 'insta'    , dataframe = insta    , make_index = True, index = 'installment.id')\n",
    "    es = es.entity_from_dataframe(entity_id = 'pc'       , dataframe = pc       , make_index = True, index = 'pos_cash_id')\n",
    "    # Creating relation between Entities\n",
    "    # Relationship between application training and bureau\n",
    "    r_applications_bureau = ft.Relationship(es['train']['SK_ID_CURR'], es['bureau']['SK_ID_CURR'])\n",
    "    es = es.add_relationship(r_applications_bureau)\n",
    "    # Relationship between bureau and bureau balance\n",
    "    r_bureau_bureaubal = ft.Relationship(es['bureau']['SK_ID_BUREAU'], es['bureaubal']['SK_ID_BUREAU'])\n",
    "    es = es.add_relationship(r_bureau_bureaubal)\n",
    "    # Relationship between application training and previous applications\n",
    "    r_app_prev = ft.Relationship(es['train']['SK_ID_CURR'], es['prev']['SK_ID_CURR'])\n",
    "    es = es.add_relationship(r_app_prev)\n",
    "    # Relationship between previous applications with credit card balance, pos cash, and installments\n",
    "    r_prev_cc = ft.Relationship(es['prev']['SK_ID_PREV'], es['ccb']['SK_ID_PREV'])\n",
    "    es = es.add_relationship(r_prev_cc)\n",
    "    r_prev_insta = ft.Relationship(es['prev']['SK_ID_PREV'], es['insta']['SK_ID_PREV'])\n",
    "    es = es.add_relationship(r_prev_insta)\n",
    "    r_prev_pc2 = ft.Relationship(es['prev']['SK_ID_PREV'], es['pc']['SK_ID_PREV'])\n",
    "    es = es.add_relationship(r_prev_pc2)\n",
    "    print('EntitySet with Relationships', es)\n",
    "    # Deep feature synthesis with depth of 2 by stacking feature primitives (agregations and tranformations)\n",
    "    # Automated features are concatenated to the original features; Therefore, \n",
    "    train_ft, feature_names = ft.dfs(entityset = es, target_entity = 'train', max_depth = max_depth)\n",
    "    train_ft = train_ft.reset_index()\n",
    "    print('\\nTotal number of features after adding automated features: ', train_ft.shape[1])\n",
    "    return train_ft"
   ]
  },
  {
   "cell_type": "code",
   "execution_count": 32,
   "metadata": {
    "executionInfo": {
     "elapsed": 3447,
     "status": "ok",
     "timestamp": 1601504229626,
     "user": {
      "displayName": "Ali Ghorbani",
      "photoUrl": "https://lh3.googleusercontent.com/a-/AOh14GhWTYg2QaNPZd4GGNiDkkHX8r9t7BRVHYGz3JwSKA=s64",
      "userId": "10869472433171243113"
     },
     "user_tz": 240
    },
    "id": "_NEVlazP1Ebx"
   },
   "outputs": [],
   "source": [
    "def preprocessing(train):\n",
    "    '''\n",
    "    This function calculates the correlation between all features in training data and drops the columns with \n",
    "    correlation > 0.98. Then, it encodes categorical features and save them as 'category' type for lightGBM algorithms.\n",
    "\n",
    "    Parameters:\n",
    "    train: trainig sets after with automated features from feature tools.\n",
    "\n",
    "    Returns:\n",
    "    train: pandas.DataFrame which includes preprocessed training dataset.\n",
    "    '''\n",
    "\n",
    "    print('Preprocessing final table and one-hot encoding categorical features...')\n",
    "    # Drop the columns with correlation > 0.98\n",
    "    corr = train.corr()\n",
    "    upper = corr.where(np.triu(np.ones(corr.shape), k=1).astype(np.bool))\n",
    "    to_drop = [column for column in upper.columns if any(upper[column] > 0.98)]\n",
    "    train = train.drop(to_drop, axis=1)\n",
    "    \n",
    "    # Imputating the missing data, PCA can not handle missing data\n",
    "    # Missing categorical features are imputed with 'Not_applicable'\n",
    "    # Missing numeric features are imputed with Zero (logical choice for this dataset)\n",
    "    cols = train.select_dtypes(include = object).columns\n",
    "    train[cols] = train[cols].fillna('Not_Applicable')\n",
    "    cols = train.select_dtypes(exclude = object).columns\n",
    "    train[cols] = train[cols].fillna(0)\n",
    "    \n",
    "    # One-hot encoding categorical features for XGBoost algorithm. \n",
    "    train = pd.get_dummies(train, drop_first=True)\n",
    "    \n",
    "    return train"
   ]
  },
  {
   "cell_type": "code",
   "execution_count": 33,
   "metadata": {
    "executionInfo": {
     "elapsed": 3423,
     "status": "ok",
     "timestamp": 1601504229627,
     "user": {
      "displayName": "Ali Ghorbani",
      "photoUrl": "https://lh3.googleusercontent.com/a-/AOh14GhWTYg2QaNPZd4GGNiDkkHX8r9t7BRVHYGz3JwSKA=s64",
      "userId": "10869472433171243113"
     },
     "user_tz": 240
    },
    "id": "o7_ludBW1WUN"
   },
   "outputs": [],
   "source": [
    "def XGBoost(train, num_folds, test_size):\n",
    "    '''\n",
    "    This function train a machine learning model using XGBoost algorithm. \n",
    "\n",
    "    Parameters:\n",
    "    train: preprocessed training data \n",
    "    num_folds: number of folds for cross-validation (default is 5)\n",
    "    test_size: ratio of train to test dataset\n",
    "\n",
    "    Returns:\n",
    "    pred_class: Binary class prediction of the target variable.\n",
    "    pred: Probability prediction of the target variable.\n",
    "    y_test: y_test in the trainig dataset\n",
    "    '''\n",
    "    \n",
    "    # Train and test set split\n",
    "    y = train['TARGET']\n",
    "    X = train.drop('TARGET', axis=1)\n",
    "    X_train, X_test, y_train, y_test = train_test_split(X, y , test_size = test_size, random_state=1234)\n",
    "    \n",
    "    # First 200 principle components are used for XGBoost \n",
    "    # PCA requires standardization of featuers\n",
    "    sc = StandardScaler()\n",
    "    X_pca = sc.fit_transform(X_train)\n",
    "    pca = PCA(n_components = 200)\n",
    "    X_pca = pca.fit_transform(X_pca)\n",
    "    print('\\nRatio of variance explained by 200 principal components: ', sum(pca.explained_variance_ratio_))\n",
    "    \n",
    "    pipeline = make_pipeline(StandardScaler(),PCA(n_components = 200), XGBClassifier())\n",
    "\n",
    "    params = {\n",
    "              'xgbclassifier__learning_rate': [0.05, 0.1, 0.15, 0.2],\n",
    "              'xgbclassifier__max_depth': [3, 4, 5, 6, 8, 10 ],\n",
    "              'xgbclassifier__min_child_weight': [1, 3, 5, 7], \n",
    "              'xgbclassifier__gamma' : [0, 0.1, 0.2, 0.3, 0.4],   \n",
    "              'xgbclassifier__colsample_bytree': [ 0.5, 0.7, 1]            \n",
    "              }\n",
    "    print('\\nApplying XGBoost classifier... \\n')\n",
    "    \n",
    "    model = RandomizedSearchCV(pipeline, params, n_iter=4, scoring='roc_auc', cv=5, n_jobs=-1, verbose = 3)\n",
    "    model.fit(X_train, y_train)\n",
    "    print('\\nCross validation best score(AUC) is:', model.best_score_)\n",
    "    # Hyperparameters of the model with the best performance\n",
    "    print('\\nModel best hyperparamters are:', model.best_params_)\n",
    "    # Binary class prediction\n",
    "    pred_class = model.predict(X_test)\n",
    "    # Probability prediction\n",
    "    pred = model.predict_proba(X_test)\n",
    "    pred = [p[1] for p in pred]\n",
    "    return pred_class, pred, y_test"
   ]
  },
  {
   "cell_type": "code",
   "execution_count": 34,
   "metadata": {
    "executionInfo": {
     "elapsed": 3406,
     "status": "ok",
     "timestamp": 1601504229628,
     "user": {
      "displayName": "Ali Ghorbani",
      "photoUrl": "https://lh3.googleusercontent.com/a-/AOh14GhWTYg2QaNPZd4GGNiDkkHX8r9t7BRVHYGz3JwSKA=s64",
      "userId": "10869472433171243113"
     },
     "user_tz": 240
    },
    "id": "bI01HDaZeeOS"
   },
   "outputs": [],
   "source": [
    "def calculate_metrics(pred_class, pred, y_test):\n",
    "    '''\n",
    "    This function calculates the classificaiton metrics including precision, recall, F1-Score, AUC_ROC, and cohen-kappa coefficient.\n",
    "\n",
    "    Parameters:\n",
    "    pred_class: Binary class prediction of the target variable.\n",
    "    pred: Probability prediction of the target variable.\n",
    "    y_test: y_test in the trainig dataset\n",
    "\n",
    "    Returns:\n",
    "    None\n",
    "    '''\n",
    "\n",
    "    # ROC_AUC score\n",
    "    print('ROC_AUC:', roc_auc_score(y_test, pred))\n",
    "    # Precision/Recall (0.1 Threshold)\n",
    "    pred_class_2 = (np.array(pred) > 0.1).astype(int)\n",
    "    cm = confusion_matrix(y_test, pred_class_2)\n",
    "    print('\\nConfusion_metrix (0.1 Threshold): \\n', cm)\n",
    "    # True Negatives (TN)\n",
    "    tn = cm[0][0]\n",
    "    # False Positives (FP)\n",
    "    fp = cm[0][1]    \n",
    "    # False Negatives (FN)\n",
    "    fn = cm[1][0]\n",
    "    # True Positives (TP)\n",
    "    tp = cm[1][1]\n",
    "    precision = tp / (tp + fp)\n",
    "    print( 'Precision (0.1 Threshold): ', precision )\n",
    "    recall = tp / (tp + fn)\n",
    "    print( 'Recall (0.1 Threshold): ', recall )\n",
    "    print( 'F1-score ( 0.1 Threshold):', 2*precision*recall/(precision+recall))\n",
    "    cohen_kappa = cohen_kappa_score(y_test, pred_class_2)\n",
    "    print( '\\nCohen_kappa (0.1 Threshold): ', cohen_kappa )\n",
    "\n",
    "def plot_ROC(y_test, pred):\n",
    "    '''\n",
    "    This function plots ROC based on y_test and predictied probability of positive class by lightGBM.\n",
    "\n",
    "    Parameters:\n",
    "    pred: Probability prediction of the target variable.\n",
    "    y_test: y_test in the trainig dataset\n",
    "\n",
    "    Returns:\n",
    "    None\n",
    "    '''\n",
    "    # Initialize figure\n",
    "    fig = plt.figure(figsize=(9,9))\n",
    "    plt.title('Receiver Operating Characteristic')\n",
    "    # Plot ROC curve\n",
    "    fpr, tpr, thresholds = roc_curve(y_test, pred)\n",
    "    plt.plot(fpr, tpr)\n",
    "    # Diagonal 45 degree line\n",
    "    plt.plot([0,1],[0,1],'k--')\n",
    "    # Axes limits and labels\n",
    "    plt.xlim([-0.1,1.1])\n",
    "    plt.ylim([-0.1,1.1])\n",
    "    plt.ylabel('True Positive Rate')\n",
    "    plt.xlabel('False Positive Rate')\n",
    "    plt.show()\n",
    "\n",
    "def plot_precision_recall(y_test, pred):\n",
    "    '''\n",
    "    This function plots precicision_recall curve based on y_test and predictied probability of positive class by lightGBM..\n",
    "\n",
    "    Parameters:\n",
    "    pred: Probability prediction of the target variable.\n",
    "    y_test: y_test in the trainig dataset\n",
    "    \n",
    "    Returns:\n",
    "    None\n",
    "    '''\n",
    "    precision, recall, thresholds = precision_recall_curve(y_test, pred)\n",
    "    fig = plt.figure(figsize=(9,9))\n",
    "    plt.title('Precision_Recall')\n",
    "    # Plot Precision-Recall curve\n",
    "    plt.plot(recall, precision)\n",
    "    # Axes limits and labels\n",
    "    plt.xlim([0,1])\n",
    "    plt.ylim([0,1])\n",
    "    plt.ylabel('Precision')\n",
    "    plt.xlabel('Recall')\n",
    "    plt.show()"
   ]
  },
  {
   "cell_type": "code",
   "execution_count": 35,
   "metadata": {
    "colab": {
     "base_uri": "https://localhost:8080/",
     "height": 697
    },
    "executionInfo": {
     "elapsed": 336143,
     "status": "error",
     "timestamp": 1601507431833,
     "user": {
      "displayName": "Ali Ghorbani",
      "photoUrl": "https://lh3.googleusercontent.com/a-/AOh14GhWTYg2QaNPZd4GGNiDkkHX8r9t7BRVHYGz3JwSKA=s64",
      "userId": "10869472433171243113"
     },
     "user_tz": 240
    },
    "id": "I3-Q4ElLlcKl",
    "outputId": "3dbe33d1-40ad-42ac-fc56-da6ff8303a2a",
    "scrolled": false
   },
   "outputs": [
    {
     "name": "stdout",
     "output_type": "stream",
     "text": [
      "Processing application_train and application_test tables\n",
      "EntitySet with Relationships Entityset: applications\n",
      "  Entities:\n",
      "    train [Rows: 30000, Columns: 127]\n",
      "    bureau [Rows: 86286, Columns: 17]\n",
      "    bureaubal [Rows: 911993, Columns: 4]\n",
      "    prev [Rows: 138560, Columns: 37]\n",
      "    ccb [Rows: 84931, Columns: 24]\n",
      "    insta [Rows: 1125445, Columns: 9]\n",
      "    pc [Rows: 86293, Columns: 9]\n",
      "  Relationships:\n",
      "    bureau.SK_ID_CURR -> train.SK_ID_CURR\n",
      "    bureaubal.SK_ID_BUREAU -> bureau.SK_ID_BUREAU\n",
      "    prev.SK_ID_CURR -> train.SK_ID_CURR\n",
      "    ccb.SK_ID_PREV -> prev.SK_ID_PREV\n",
      "    insta.SK_ID_PREV -> prev.SK_ID_PREV\n",
      "    pc.SK_ID_PREV -> prev.SK_ID_PREV\n",
      "\n",
      "Total number of features after adding automated features:  2226\n",
      "Preprocessing final table and one-hot encoding categorical features...\n",
      "\n",
      "Ratio of variance explained by 200 principal components:  0.7023963403648208\n",
      "\n",
      "Applying XGBoost classifier... \n",
      "\n",
      "Fitting 5 folds for each of 4 candidates, totalling 20 fits\n"
     ]
    },
    {
     "name": "stderr",
     "output_type": "stream",
     "text": [
      "[Parallel(n_jobs=-1)]: Using backend LokyBackend with 4 concurrent workers.\n",
      "[Parallel(n_jobs=-1)]: Done  20 out of  20 | elapsed:  8.2min remaining:    0.0s\n",
      "[Parallel(n_jobs=-1)]: Done  20 out of  20 | elapsed:  8.2min finished\n"
     ]
    },
    {
     "name": "stdout",
     "output_type": "stream",
     "text": [
      "\n",
      "Cross validation best score(AUC) is: 0.6735569039652113\n",
      "\n",
      "Model best hyperparamters are: {'xgbclassifier__min_child_weight': 5, 'xgbclassifier__max_depth': 3, 'xgbclassifier__learning_rate': 0.1, 'xgbclassifier__gamma': 0.4, 'xgbclassifier__colsample_bytree': 0.7}\n",
      "ROC_AUC: 0.6674257906376042\n",
      "\n",
      "Confusion_metrix (0.1 Threshold): \n",
      " [[1025  354]\n",
      " [  59   62]]\n",
      "Precision (0.1 Threshold):  0.14903846153846154\n",
      "Recall (0.1 Threshold):  0.512396694214876\n",
      "F1-score ( 0.1 Threshold): 0.23091247672253257\n",
      "\n",
      "Cohen_kappa (0.1 Threshold):  0.12106215984609003\n"
     ]
    },
    {
     "data": {
      "image/png": "[encoded data removed]",
      "text/plain": [
       "<Figure size 648x648 with 1 Axes>"
      ]
     },
     "metadata": {
      "needs_background": "light"
     },
     "output_type": "display_data"
    },
    {
     "data": {
      "image/png": "[encoded data removed]",
      "text/plain": [
       "<Figure size 648x648 with 1 Axes>"
      ]
     },
     "metadata": {
      "needs_background": "light"
     },
     "output_type": "display_data"
    }
   ],
   "source": [
    "''' -------------------------------Main---------------------------\n",
    "The main calls all funcitons sequentillay, apply automated feature engineering, train XGBoost, and plot the classification metrics.\n",
    "    \n",
    "'''\n",
    "# 1) Model performance with concatenating CNN features\n",
    "train = train_application()\n",
    "\n",
    "# Extract new features using feature tools\n",
    "# max_depth: depth of a deep feature is the number of primitives required to make the feature.\n",
    "max_depth = 2\n",
    "\n",
    "# nrows: number of rows considered in train data for the model due to the computational power limitation.\n",
    "nrows = 30000\n",
    "\n",
    "train = Automated_features(train, nrows, max_depth)\n",
    "\n",
    "# Preprocesing including one hot encoding of categorical varibles for XGBoost \n",
    "train = preprocessing(train)\n",
    "\n",
    "# Training XGBoost\n",
    "nfolds = 5\n",
    "test_size = 0.05\n",
    "pred_class, pred, y_test = XGBoost(train, nfolds, test_size)\n",
    "# Evalutate ROC_AUC, Precision, Recall, F1-Score, Kohen-Cappa metrics\n",
    "calculate_metrics(pred_class, pred, y_test)\n",
    "# Plot ROC curve\n",
    "plot_ROC(y_test, pred)\n",
    "# Plot Precision/R curve\n",
    "plot_precision_recall(y_test, pred)"
   ]
  }
 ],
 "metadata": {
  "accelerator": "GPU",
  "colab": {
   "collapsed_sections": [],
   "name": "5Featuretoolstree.ipynb",
   "provenance": [
    {
     "file_id": "1R5IYeiRZufzRipTqBk5zcdMgdkmUoEHE",
     "timestamp": 1595445733426
    },
    {
     "file_id": "1ZnpsttZrvD6wbKD6aETZuuMbHnE7FLFi",
     "timestamp": 1594932112784
    },
    {
     "file_id": "1QIbvwXBVKCtoJHH1alQcP13irUjezFYp",
     "timestamp": 1594841666146
    },
    {
     "file_id": "1W2dSR-Ua7USBX0gTUcVxEtEvVlEbZCsq",
     "timestamp": 1594734735941
    }
   ]
  },
  "kernelspec": {
   "display_name": "Python 3",
   "language": "python",
   "name": "python3"
  },
  "language_info": {
   "codemirror_mode": {
    "name": "ipython",
    "version": 3
   },
   "file_extension": ".py",
   "mimetype": "text/x-python",
   "name": "python",
   "nbconvert_exporter": "python",
   "pygments_lexer": "ipython3",
   "version": "3.7.7"
  }
 },
 "nbformat": 4,
 "nbformat_minor": 1
}
